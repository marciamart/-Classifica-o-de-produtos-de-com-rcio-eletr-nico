{
  "nbformat": 4,
  "nbformat_minor": 0,
  "metadata": {
    "colab": {
      "provenance": []
    },
    "kernelspec": {
      "name": "python3",
      "display_name": "Python 3"
    },
    "language_info": {
      "name": "python"
    }
  },
  "cells": [
    {
      "cell_type": "code",
      "source": [
        "!pip install opendatasets\n",
        "!pip install pandas"
      ],
      "metadata": {
        "colab": {
          "base_uri": "https://localhost:8080/"
        },
        "id": "CAKM9t2gvbzf",
        "outputId": "43755dfd-0843-4f41-ff07-51ed6b1b7fc6"
      },
      "execution_count": null,
      "outputs": [
        {
          "output_type": "stream",
          "name": "stdout",
          "text": [
            "Collecting opendatasets\n",
            "  Downloading opendatasets-0.1.22-py3-none-any.whl.metadata (9.2 kB)\n",
            "Requirement already satisfied: tqdm in /usr/local/lib/python3.10/dist-packages (from opendatasets) (4.66.4)\n",
            "Requirement already satisfied: kaggle in /usr/local/lib/python3.10/dist-packages (from opendatasets) (1.6.14)\n",
            "Requirement already satisfied: click in /usr/local/lib/python3.10/dist-packages (from opendatasets) (8.1.7)\n",
            "Requirement already satisfied: six>=1.10 in /usr/local/lib/python3.10/dist-packages (from kaggle->opendatasets) (1.16.0)\n",
            "Requirement already satisfied: certifi>=2023.7.22 in /usr/local/lib/python3.10/dist-packages (from kaggle->opendatasets) (2024.7.4)\n",
            "Requirement already satisfied: python-dateutil in /usr/local/lib/python3.10/dist-packages (from kaggle->opendatasets) (2.8.2)\n",
            "Requirement already satisfied: requests in /usr/local/lib/python3.10/dist-packages (from kaggle->opendatasets) (2.31.0)\n",
            "Requirement already satisfied: python-slugify in /usr/local/lib/python3.10/dist-packages (from kaggle->opendatasets) (8.0.4)\n",
            "Requirement already satisfied: urllib3 in /usr/local/lib/python3.10/dist-packages (from kaggle->opendatasets) (2.0.7)\n",
            "Requirement already satisfied: bleach in /usr/local/lib/python3.10/dist-packages (from kaggle->opendatasets) (6.1.0)\n",
            "Requirement already satisfied: webencodings in /usr/local/lib/python3.10/dist-packages (from bleach->kaggle->opendatasets) (0.5.1)\n",
            "Requirement already satisfied: text-unidecode>=1.3 in /usr/local/lib/python3.10/dist-packages (from python-slugify->kaggle->opendatasets) (1.3)\n",
            "Requirement already satisfied: charset-normalizer<4,>=2 in /usr/local/lib/python3.10/dist-packages (from requests->kaggle->opendatasets) (3.3.2)\n",
            "Requirement already satisfied: idna<4,>=2.5 in /usr/local/lib/python3.10/dist-packages (from requests->kaggle->opendatasets) (3.7)\n",
            "Downloading opendatasets-0.1.22-py3-none-any.whl (15 kB)\n",
            "Installing collected packages: opendatasets\n",
            "Successfully installed opendatasets-0.1.22\n",
            "Requirement already satisfied: pandas in /usr/local/lib/python3.10/dist-packages (2.0.3)\n",
            "Requirement already satisfied: python-dateutil>=2.8.2 in /usr/local/lib/python3.10/dist-packages (from pandas) (2.8.2)\n",
            "Requirement already satisfied: pytz>=2020.1 in /usr/local/lib/python3.10/dist-packages (from pandas) (2023.4)\n",
            "Requirement already satisfied: tzdata>=2022.1 in /usr/local/lib/python3.10/dist-packages (from pandas) (2024.1)\n",
            "Requirement already satisfied: numpy>=1.21.0 in /usr/local/lib/python3.10/dist-packages (from pandas) (1.25.2)\n",
            "Requirement already satisfied: six>=1.5 in /usr/local/lib/python3.10/dist-packages (from python-dateutil>=2.8.2->pandas) (1.16.0)\n"
          ]
        }
      ]
    },
    {
      "cell_type": "code",
      "source": [
        "import opendatasets as od\n",
        "\n",
        "od.download(\"https://www.kaggle.com/datasets/fatihkgg/ecommerce-product-images-18k\")\n",
        "\n",
        "#USAR API TOKEN DO KAGGLE"
      ],
      "metadata": {
        "colab": {
          "base_uri": "https://localhost:8080/"
        },
        "id": "UtwCMKa7vyxU",
        "outputId": "971985d2-d4d9-4c1b-a796-ec4d0b015964"
      },
      "execution_count": null,
      "outputs": [
        {
          "output_type": "stream",
          "name": "stdout",
          "text": [
            "Please provide your Kaggle credentials to download this dataset. Learn more: http://bit.ly/kaggle-creds\n",
            "Your Kaggle username: andressacolares\n",
            "Your Kaggle Key: ··········\n",
            "Dataset URL: https://www.kaggle.com/datasets/fatihkgg/ecommerce-product-images-18k\n",
            "Downloading ecommerce-product-images-18k.zip to ./ecommerce-product-images-18k\n"
          ]
        },
        {
          "output_type": "stream",
          "name": "stderr",
          "text": [
            "100%|██████████| 142M/142M [00:01<00:00, 109MB/s]\n"
          ]
        },
        {
          "output_type": "stream",
          "name": "stdout",
          "text": [
            "\n"
          ]
        }
      ]
    },
    {
      "cell_type": "code",
      "source": [
        "!apt install libimage-exiftool-perl\n",
        "\n",
        "#Ferramenta utilizada para leitura de metadados de imagens"
      ],
      "metadata": {
        "colab": {
          "base_uri": "https://localhost:8080/"
        },
        "id": "p_yFZfex-Lpd",
        "outputId": "73db1c6b-b7ce-40a6-8aa6-8431c4c55087"
      },
      "execution_count": null,
      "outputs": [
        {
          "output_type": "stream",
          "name": "stdout",
          "text": [
            "Reading package lists... Done\n",
            "Building dependency tree... Done\n",
            "Reading state information... Done\n",
            "libimage-exiftool-perl is already the newest version (12.40+dfsg-1).\n",
            "0 upgraded, 0 newly installed, 0 to remove and 45 not upgraded.\n"
          ]
        }
      ]
    },
    {
      "cell_type": "code",
      "source": [
        "!pip install colorgram.py\n",
        "# Lib utilizada para a extrair cores predominantes de uma imagem"
      ],
      "metadata": {
        "colab": {
          "base_uri": "https://localhost:8080/"
        },
        "id": "SLcN4RHoAAw_",
        "outputId": "a59c9346-1614-4f6e-c2e8-4b91e42add93"
      },
      "execution_count": null,
      "outputs": [
        {
          "output_type": "stream",
          "name": "stdout",
          "text": [
            "Collecting colorgram.py\n",
            "  Downloading colorgram.py-1.2.0-py2.py3-none-any.whl.metadata (4.6 kB)\n",
            "Requirement already satisfied: pillow>=3.3.1 in /usr/local/lib/python3.10/dist-packages (from colorgram.py) (9.4.0)\n",
            "Downloading colorgram.py-1.2.0-py2.py3-none-any.whl (6.2 kB)\n",
            "Installing collected packages: colorgram.py\n",
            "Successfully installed colorgram.py-1.2.0\n"
          ]
        }
      ]
    },
    {
      "cell_type": "markdown",
      "source": [
        "Dataset em  /content/ecommerce-product-images-18k/ECOMMERCE_PRODUCT_IMAGES"
      ],
      "metadata": {
        "id": "J2DbowIZCOG4"
      }
    },
    {
      "cell_type": "code",
      "source": [
        "data = '/content/ecommerce-product-images-18k/ECOMMERCE_PRODUCT_IMAGES'"
      ],
      "metadata": {
        "id": "eQK9tRfvbWv6"
      },
      "execution_count": null,
      "outputs": []
    },
    {
      "cell_type": "markdown",
      "source": [],
      "metadata": {
        "id": "-r8DTUeBbWBM"
      }
    },
    {
      "cell_type": "markdown",
      "source": [
        "## Parte 1"
      ],
      "metadata": {
        "id": "APdfWgpjB5ki"
      }
    },
    {
      "cell_type": "markdown",
      "source": [
        "### Objetivo e informações esperadas"
      ],
      "metadata": {
        "id": "wAqP_BIlDlr6"
      }
    },
    {
      "cell_type": "markdown",
      "source": [
        "Objetivo:\n",
        "* Apresentar informações do dataset.\n",
        "\n",
        "Informações esperadas:\n",
        "* Integridade dos Arquivos\n",
        "  1. Verifique se todas as imagens listadas no arquivo de informações\n",
        "realmente existem no diretório de imagens e vice-versa.\n",
        "  2. Verifique se todas as imagens estão no mesmo formato, ex: JPEG,\n",
        "PNG, etc.\n",
        "* Consistência dos Metadados\n",
        "  1. Verifique se há valores ausentes nos metadados e como esses casos\n",
        "são tratados.\n",
        "  2. Verifique valores inconsistentes, por exemplo: dimensões de imagens\n",
        "fora do esperado.\n",
        "* Qualidade das Imagens\n",
        "  1. Identifique imagens corrompidas que não podem ser abertas ou\n",
        "processadas.\n",
        "* Distribuição das Classes\n",
        "  1. Verifique a distribuição das classes para identificar possíveis\n",
        "desequilíbrios que possam afetar a modelagem\n",
        "* Duplicatas\n",
        "  1. Identifique imagens duplicadas que possam enviesar os resultados.\n",
        "  2. Verifique duplicatas no arquivo de informações.\n",
        "\n",
        "Informações complementares:\n",
        "* Elaborar uma apresentação para mostrar os resultados.\n",
        "* Apresentar o dataset de forma detalhada.\n",
        "* Verifique quais itens em Informações esperadas podem ser aplicados no\n",
        "dataset."
      ],
      "metadata": {
        "id": "htOu5f-OD6pq"
      }
    },
    {
      "cell_type": "markdown",
      "source": [
        "###**Consistência dos Metadados**\n",
        "\n",
        "Nessa etapa, foi analisado a qualidade e a integridade das imagens, para assegurar que não haverá maiores problemas nas etapas seguintes.\n",
        "\n",
        "Foram levantados os seguintes tópicos:\n",
        "\n",
        "\n",
        "*   Dimensões das imagens\n",
        "*   Quantidade de megapixes\n",
        "*   Recorrência de cores\n",
        "\n",
        "\n"
      ],
      "metadata": {
        "id": "h1ZERpxr50AR"
      }
    },
    {
      "cell_type": "markdown",
      "source": [
        "**Dimensão das imagens**\n",
        "\n",
        "Utilizando o conjunto de imagens amostrais, presentes na pasta (check), não foi encontrado alguma inconsistência, uma vez que o conjunto amostral apresenta imagens com as mesmas dimensões.\n",
        "\n",
        "---\n",
        "*Saída Esperada*:\n",
        "\n",
        "\n",
        "```\n",
        "A dimensão que mais aparece é: (224, 224) (quantidade: 551)\n",
        "```\n",
        "\n",
        "\n",
        "\n",
        "\n"
      ],
      "metadata": {
        "id": "t2EvBVCB8pue"
      }
    },
    {
      "cell_type": "code",
      "source": [
        "import os\n",
        "import subprocess\n",
        "import imghdr\n",
        "from collections import Counter\n",
        "\n",
        "pasta_check = '/content/ecommerce-product-images-18k/ECOMMERCE_PRODUCT_IMAGES/check'\n",
        "\n",
        "contagem_dimensoes = Counter()\n",
        "\n",
        "def verificar_dimensoes_imagens(pasta):\n",
        "    for item in os.listdir(pasta):\n",
        "        caminho_item = os.path.join(pasta, item)\n",
        "\n",
        "        if os.path.isdir(caminho_item):\n",
        "            verificar_dimensoes_imagens(caminho_item)\n",
        "        elif os.path.isfile(caminho_item) and imghdr.what(caminho_item) == 'jpeg':\n",
        "            resultado = subprocess.run([\"exiftool\", \"-s\", \"-ImageWidth\", \"-ImageHeight\", caminho_item], capture_output=True, text=True)\n",
        "\n",
        "            dimensoes = resultado.stdout.strip().split(\"\\n\")\n",
        "            largura = int(dimensoes[0].split(\": \")[1])\n",
        "            altura = int(dimensoes[1].split(\": \")[1])\n",
        "\n",
        "            contagem_dimensoes[(largura, altura)] += 1\n",
        "\n",
        "verificar_dimensoes_imagens(pasta_check)\n",
        "\n",
        "dimensao_mais_comum = contagem_dimensoes.most_common(1)[0]\n",
        "\n",
        "print(f\"A dimensão que mais aparece é: {dimensao_mais_comum[0]} (quantidade: {dimensao_mais_comum[1]})\")\n"
      ],
      "metadata": {
        "colab": {
          "base_uri": "https://localhost:8080/"
        },
        "id": "OHoS2wfA8CeV",
        "outputId": "1a311f93-d202-45ff-90a7-52121529efd9"
      },
      "execution_count": null,
      "outputs": [
        {
          "output_type": "stream",
          "name": "stdout",
          "text": [
            "A dimensão que mais aparece é: (224, 224) (quantidade: 551)\n"
          ]
        }
      ]
    },
    {
      "cell_type": "markdown",
      "source": [
        "\n",
        "**Quantidade de MegaPixels**\n",
        "\n",
        "Também não foi encontrado dados ausentes ou inconsistentes nesse espaço de dados amostral, uma vez que todas as imagens apresentam a mesma quantidade de megapixels.\n",
        "\n",
        "---\n",
        "*Saída Esperada:*\n",
        "\n",
        "\n",
        "\n",
        "```\n",
        "Todos os arquivos possuem 0.050 megapixels.\n",
        "\n",
        "```\n",
        "\n",
        "\n",
        "\n"
      ],
      "metadata": {
        "id": "Vh6fkU3a7yWv"
      }
    },
    {
      "cell_type": "code",
      "source": [
        "import os\n",
        "import subprocess\n",
        "import imghdr\n",
        "\n",
        "pasta_check = '/content/ecommerce-product-images-18k/ECOMMERCE_PRODUCT_IMAGES/check'\n",
        "\n",
        "megapixels_esperado = None\n",
        "arquivos_com_megapixels_diferentes = []\n",
        "\n",
        "def verificar_megapixels(pasta):\n",
        "    global megapixels_esperado, arquivos_com_megapixels_diferentes\n",
        "\n",
        "    for item in os.listdir(pasta):\n",
        "        caminho_item = os.path.join(pasta, item)\n",
        "\n",
        "        if os.path.isdir(caminho_item):\n",
        "            verificar_megapixels(caminho_item)\n",
        "        elif os.path.isfile(caminho_item) and imghdr.what(caminho_item) == 'jpeg':\n",
        "            resultado = subprocess.run([\"exiftool\", \"-s\", \"-Megapixels\", caminho_item], capture_output=True, text=True)\n",
        "\n",
        "            megapixels_atual = resultado.stdout.strip().split(\": \")[1]\n",
        "\n",
        "            if megapixels_esperado is None:\n",
        "                megapixels_esperado = megapixels_atual\n",
        "            elif megapixels_atual != megapixels_esperado:\n",
        "                arquivos_com_megapixels_diferentes.append(caminho_item)\n",
        "\n",
        "verificar_megapixels(pasta_check)\n",
        "\n",
        "if arquivos_com_megapixels_diferentes:\n",
        "    print(\"Nem todos os arquivos possuem o mesmo valor de megapixels.\")\n",
        "    print(\"Arquivos com megapixels diferentes:\")\n",
        "    for arquivo in arquivos_com_megapixels_diferentes:\n",
        "        print(f\"  - {arquivo}\")\n",
        "else:\n",
        "    print(f\"Todos os arquivos possuem {megapixels_esperado} megapixels.\")\n"
      ],
      "metadata": {
        "colab": {
          "base_uri": "https://localhost:8080/"
        },
        "id": "NHUdnZJa_cdW",
        "outputId": "b8e66745-ea5d-4d5c-fa0d-5bcc545e794b"
      },
      "execution_count": null,
      "outputs": [
        {
          "output_type": "stream",
          "name": "stdout",
          "text": [
            "Todos os arquivos possuem 0.050 megapixels.\n"
          ]
        }
      ]
    },
    {
      "cell_type": "markdown",
      "source": [
        "**Recorrência de Cores**\n",
        "\n",
        "Nesse levantamento, foi observado que as cores semelhantes ao branco absoluto são as mais presentes nas categorias apresentadas. O algoritmo utilizado analisa a imagem como um todo, por isso, o fundo \"neutro\" influênciou nesse resultado. Porém, utilizando o *OpenCV*, é possível detectar os contornos do produto e descobrir as cores além do fundo neutro.\n",
        "\n",
        "\n",
        "---\n",
        "*Saída utilizando apenas a biblioteca Colorgram:*\n",
        "\n",
        "\n",
        "\n",
        "```\n",
        "Categoria 'BABY_PRODUCTS': Cor predominante: Rgb(r=254, g=254, b=254), Proporção total: 3.05\n",
        "Categoria 'BEAUTY_HEALTH': Cor predominante: Rgb(r=254, g=254, b=254), Proporção total: 2.03\n",
        "Categoria 'CLOTHING_ACCESSORIES_JEWELLERY': Cor predominante: Rgb(r=254, g=254, b=254), Proporção total: 6.29\n",
        "Categoria 'ELECTRONICS': Cor predominante: Rgb(r=253, g=253, b=253), Proporção total: 4.57\n",
        "Categoria 'GROCERY': Cor predominante: Rgb(r=254, g=254, b=253), Proporção total: 9.50\n",
        "Categoria 'HOBBY_ARTS_STATIONERY': Cor predominante: Rgb(r=254, g=254, b=254), Proporção total: 2.84\n",
        "Categoria 'HOME_KITCHEN_TOOLS': Cor predominante: Rgb(r=254, g=254, b=254), Proporção total: 8.90\n",
        "Categoria 'PET_SUPPLIES': Cor predominante: Rgb(r=253, g=253, b=253), Proporção total: 2.11\n",
        "Categoria 'SPORTS_OUTDOOR': Cor predominante: Rgb(r=253, g=253, b=253), Proporção total: 12.45\n",
        "```\n",
        "\n",
        "\n"
      ],
      "metadata": {
        "id": "DmSO99PpAOSo"
      }
    },
    {
      "cell_type": "code",
      "source": [
        "import os\n",
        "import colorgram\n",
        "from PIL import Image\n",
        "import pandas as pd\n",
        "import imghdr\n",
        "\n",
        "pasta_check = '/content/ecommerce-product-images-18k/ECOMMERCE_PRODUCT_IMAGES/check'\n",
        "\n",
        "def analisar_cores_por_categoria(pasta):\n",
        "    dados = []\n",
        "\n",
        "    for nome_subpasta in os.listdir(pasta):\n",
        "        caminho_subpasta = os.path.join(pasta, nome_subpasta)\n",
        "        if os.path.isdir(caminho_subpasta):\n",
        "            categoria = nome_subpasta\n",
        "\n",
        "            for item in os.listdir(caminho_subpasta):\n",
        "                caminho_item = os.path.join(caminho_subpasta, item)\n",
        "                if os.path.isfile(caminho_item) and imghdr.what(caminho_item) == 'jpeg':\n",
        "                    try:\n",
        "                        cores = colorgram.extract(Image.open(caminho_item), 5)  # Extrai 5 cores\n",
        "\n",
        "                        for cor in cores:\n",
        "                            dados.append({'categoria': categoria, 'cor_predominante': cor.rgb, 'proporcao': cor.proportion})\n",
        "                    except Exception as e:\n",
        "                        print(f\"Erro ao processar a imagem {caminho_item}: {e}\")\n",
        "\n",
        "    df = pd.DataFrame(dados)\n",
        "\n",
        "    cores_predominantes_por_categoria = df.groupby(['categoria', 'cor_predominante'])['proporcao'].sum().reset_index()\n",
        "    cores_predominantes_por_categoria = cores_predominantes_por_categoria.loc[cores_predominantes_por_categoria.groupby('categoria')['proporcao'].idxmax()]\n",
        "\n",
        "    for _, row in cores_predominantes_por_categoria.iterrows():\n",
        "        print(f\"Categoria '{row['categoria']}': Cor predominante: {row['cor_predominante']}, Proporção total: {row['proporcao']:.2f}\")\n",
        "\n",
        "analisar_cores_por_categoria(pasta_check)"
      ],
      "metadata": {
        "colab": {
          "base_uri": "https://localhost:8080/"
        },
        "id": "K9LDhAGFCpwQ",
        "outputId": "9a9a5006-d456-4a61-b624-954e6bb4ac88"
      },
      "execution_count": null,
      "outputs": [
        {
          "output_type": "stream",
          "name": "stdout",
          "text": [
            "Categoria 'BABY_PRODUCTS': Cor predominante: Rgb(r=254, g=254, b=254), Proporção total: 3.05\n",
            "Categoria 'BEAUTY_HEALTH': Cor predominante: Rgb(r=254, g=254, b=254), Proporção total: 2.03\n",
            "Categoria 'CLOTHING_ACCESSORIES_JEWELLERY': Cor predominante: Rgb(r=254, g=254, b=254), Proporção total: 6.29\n",
            "Categoria 'ELECTRONICS': Cor predominante: Rgb(r=253, g=253, b=253), Proporção total: 4.57\n",
            "Categoria 'GROCERY': Cor predominante: Rgb(r=254, g=254, b=253), Proporção total: 9.50\n",
            "Categoria 'HOBBY_ARTS_STATIONERY': Cor predominante: Rgb(r=254, g=254, b=254), Proporção total: 2.84\n",
            "Categoria 'HOME_KITCHEN_TOOLS': Cor predominante: Rgb(r=254, g=254, b=254), Proporção total: 8.90\n",
            "Categoria 'PET_SUPPLIES': Cor predominante: Rgb(r=253, g=253, b=253), Proporção total: 2.11\n",
            "Categoria 'SPORTS_OUTDOOR': Cor predominante: Rgb(r=253, g=253, b=253), Proporção total: 12.45\n"
          ]
        }
      ]
    },
    {
      "cell_type": "markdown",
      "source": [
        "Após utilizar a ferramenta *OpenCV*, conseguimos observar que, apesar da maioria das categorias ainda seguir na paleta de cores \"branco\" ou \"cinza\", a  categoria \"BEAUTY_HEALTH\" tem uma predominância de cores mais vibrantes e quentes, como o amarelo, que podem transmitir a ideia de saúde, vitalidade e beleza, enquanto \"BABY_PRODUCTS\" tem uma predominância de cores claras e neutras, como o branco e o cinza claro, que são comumente associadas a produtos para bebês.\n",
        "\n",
        "Cada categoria apresenta a seguinte variedade de cores:\n",
        "\n",
        "\n",
        "*   BABY_PRODUCTS - **Cinza claro.**\n",
        "*   HOME_KITCHEN_TOOLS - **Cinza bem claro.**\n",
        "*   GROCERY - **Um branco com tons de amarelo.**\n",
        "*   BEAUTY_HEALTH - **Dourado.**\n",
        "*   CLOTHING_ACCESSORIES_JEWELLERY, ELECTRONICS, HOBBY_ARTS_STATIONERY, PET_SUPPLIES e SPORTS_OUTDOOR - **Branco.**\n",
        "\n",
        "\n",
        "---\n",
        "\n",
        "*Saída Esperada:*\n",
        "\n",
        "\n",
        ">A proporção total indica o percentual que os metadados da categoria representam em relação ao total de dados.\n",
        "\n",
        "\n",
        "\n",
        "```\n",
        "Categoria 'BABY_PRODUCTS': Cor predominante: Rgb(r=237, g=237, b=236), Proporção total: 1.73\n",
        "Categoria 'BEAUTY_HEALTH': Cor predominante: Rgb(r=226, g=165, b=4), Proporção total: 1.20\n",
        "Categoria 'CLOTHING_ACCESSORIES_JEWELLERY': Cor predominante: Rgb(r=253, g=253, b=253), Proporção total: 1.09\n",
        "Categoria 'ELECTRONICS': Cor predominante: Rgb(r=253, g=253, b=253), Proporção total: 3.55\n",
        "Categoria 'GROCERY': Cor predominante: Rgb(r=254, g=254, b=253), Proporção total: 1.69\n",
        "Categoria 'HOBBY_ARTS_STATIONERY': Cor predominante: Rgb(r=254, g=254, b=254), Proporção total: 1.20\n",
        "Categoria 'HOME_KITCHEN_TOOLS': Cor predominante: Rgb(r=251, g=251, b=250), Proporção total: 1.61\n",
        "Categoria 'PET_SUPPLIES': Cor predominante: Rgb(r=253, g=253, b=253), Proporção total: 1.76\n",
        "Categoria 'SPORTS_OUTDOOR': Cor predominante: Rgb(r=252, g=252, b=252), Proporção total: 3.87\n",
        "\n",
        "```\n",
        "\n",
        "\n",
        "\n",
        "\n",
        "\n"
      ],
      "metadata": {
        "id": "OOsd7cMTDH93"
      }
    },
    {
      "cell_type": "code",
      "source": [
        "import os\n",
        "import colorgram\n",
        "from PIL import Image\n",
        "import pandas as pd\n",
        "import imghdr\n",
        "import cv2\n",
        "import numpy as np\n",
        "\n",
        "pasta_check = '/content/ecommerce-product-images-18k/ECOMMERCE_PRODUCT_IMAGES/check'\n",
        "\n",
        "def analisar_cores_por_categoria(pasta):\n",
        "    dados = []\n",
        "\n",
        "    for nome_subpasta in os.listdir(pasta):\n",
        "        caminho_subpasta = os.path.join(pasta, nome_subpasta)\n",
        "        if os.path.isdir(caminho_subpasta):\n",
        "            categoria = nome_subpasta\n",
        "\n",
        "            for item in os.listdir(caminho_subpasta):\n",
        "                caminho_item = os.path.join(caminho_subpasta, item)\n",
        "                if os.path.isfile(caminho_item) and imghdr.what(caminho_item) == 'jpeg':\n",
        "                    try:\n",
        "                        img = cv2.imread(caminho_item)\n",
        "                        gray = cv2.cvtColor(img, cv2.COLOR_BGR2GRAY)\n",
        "\n",
        "                        _, thresh = cv2.threshold(gray, 240, 255, cv2.THRESH_BINARY_INV)\n",
        "\n",
        "                        contours, hierarchy = cv2.findContours(thresh, cv2.RETR_EXTERNAL, cv2.CHAIN_APPROX_SIMPLE)\n",
        "\n",
        "                        if len(contours) > 0:\n",
        "                            maior_contorno = max(contours, key=cv2.contourArea)\n",
        "                            x, y, w, h = cv2.boundingRect(maior_contorno)\n",
        "                            img_recortada = img[y:y+h, x:x+w]\n",
        "\n",
        "                            cores = colorgram.extract(Image.fromarray(img_recortada), 5)\n",
        "\n",
        "                            for cor in cores:\n",
        "                                dados.append({'categoria': categoria, 'cor_predominante': cor.rgb, 'proporcao': cor.proportion})\n",
        "                        else:\n",
        "                            print(f\"Nenhum contorno encontrado na imagem {caminho_item}.\")\n",
        "\n",
        "                    except Exception as e:\n",
        "                        print(f\"Erro ao processar a imagem {caminho_item}: {e}\")\n",
        "\n",
        "    df = pd.DataFrame(dados)\n",
        "\n",
        "    cores_predominantes_por_categoria = df.groupby(['categoria', 'cor_predominante'])['proporcao'].sum().reset_index()\n",
        "    cores_predominantes_por_categoria = cores_predominantes_por_categoria.loc[cores_predominantes_por_categoria.groupby('categoria')['proporcao'].idxmax()]\n",
        "\n",
        "    for _, row in cores_predominantes_por_categoria.iterrows():\n",
        "        print(f\"Categoria '{row['categoria']}': Cor predominante: {row['cor_predominante']}, Proporção total: {row['proporcao']:.2f}\")\n",
        "\n",
        "analisar_cores_por_categoria(pasta_check)\n"
      ],
      "metadata": {
        "colab": {
          "base_uri": "https://localhost:8080/"
        },
        "id": "Jtyjw9EkDHjY",
        "outputId": "38d874dd-da44-46ef-c7a8-1429094228b4"
      },
      "execution_count": null,
      "outputs": [
        {
          "output_type": "stream",
          "name": "stdout",
          "text": [
            "Categoria 'BABY_PRODUCTS': Cor predominante: Rgb(r=237, g=237, b=236), Proporção total: 1.73\n",
            "Categoria 'BEAUTY_HEALTH': Cor predominante: Rgb(r=226, g=165, b=4), Proporção total: 1.20\n",
            "Categoria 'CLOTHING_ACCESSORIES_JEWELLERY': Cor predominante: Rgb(r=253, g=253, b=253), Proporção total: 1.09\n",
            "Categoria 'ELECTRONICS': Cor predominante: Rgb(r=253, g=253, b=253), Proporção total: 3.55\n",
            "Categoria 'GROCERY': Cor predominante: Rgb(r=254, g=254, b=253), Proporção total: 1.69\n",
            "Categoria 'HOBBY_ARTS_STATIONERY': Cor predominante: Rgb(r=254, g=254, b=254), Proporção total: 1.20\n",
            "Categoria 'HOME_KITCHEN_TOOLS': Cor predominante: Rgb(r=251, g=251, b=250), Proporção total: 1.61\n",
            "Categoria 'PET_SUPPLIES': Cor predominante: Rgb(r=253, g=253, b=253), Proporção total: 1.76\n",
            "Categoria 'SPORTS_OUTDOOR': Cor predominante: Rgb(r=252, g=252, b=252), Proporção total: 3.87\n"
          ]
        }
      ]
    }
  ]
}