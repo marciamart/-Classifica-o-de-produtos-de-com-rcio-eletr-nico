{
  "nbformat": 4,
  "nbformat_minor": 0,
  "metadata": {
    "colab": {
      "provenance": [],
      "include_colab_link": true
    },
    "kernelspec": {
      "name": "python3",
      "display_name": "Python 3"
    },
    "language_info": {
      "name": "python"
    }
  },
  "cells": [
    {
      "cell_type": "markdown",
      "metadata": {
        "id": "view-in-github",
        "colab_type": "text"
      },
      "source": [
        "<a href=\"https://colab.research.google.com/github/marciamart/Classificacao-Ecommerce/blob/main/classifica%C3%A7%C3%A3o_ecommerce.ipynb\" target=\"_parent\"><img src=\"https://colab.research.google.com/assets/colab-badge.svg\" alt=\"Open In Colab\"/></a>"
      ]
    },
    {
      "cell_type": "code",
      "source": [
        "!pip install opendatasets\n",
        "!pip install pandas"
      ],
      "metadata": {
        "colab": {
          "base_uri": "https://localhost:8080/"
        },
        "id": "CAKM9t2gvbzf",
        "outputId": "34734aee-d225-4e8e-83b0-d894002d064b"
      },
      "execution_count": null,
      "outputs": [
        {
          "output_type": "stream",
          "name": "stdout",
          "text": [
            "Collecting opendatasets\n",
            "  Downloading opendatasets-0.1.22-py3-none-any.whl (15 kB)\n",
            "Requirement already satisfied: tqdm in /usr/local/lib/python3.10/dist-packages (from opendatasets) (4.66.4)\n",
            "Requirement already satisfied: kaggle in /usr/local/lib/python3.10/dist-packages (from opendatasets) (1.6.14)\n",
            "Requirement already satisfied: click in /usr/local/lib/python3.10/dist-packages (from opendatasets) (8.1.7)\n",
            "Requirement already satisfied: six>=1.10 in /usr/local/lib/python3.10/dist-packages (from kaggle->opendatasets) (1.16.0)\n",
            "Requirement already satisfied: certifi>=2023.7.22 in /usr/local/lib/python3.10/dist-packages (from kaggle->opendatasets) (2024.7.4)\n",
            "Requirement already satisfied: python-dateutil in /usr/local/lib/python3.10/dist-packages (from kaggle->opendatasets) (2.8.2)\n",
            "Requirement already satisfied: requests in /usr/local/lib/python3.10/dist-packages (from kaggle->opendatasets) (2.31.0)\n",
            "Requirement already satisfied: python-slugify in /usr/local/lib/python3.10/dist-packages (from kaggle->opendatasets) (8.0.4)\n",
            "Requirement already satisfied: urllib3 in /usr/local/lib/python3.10/dist-packages (from kaggle->opendatasets) (2.0.7)\n",
            "Requirement already satisfied: bleach in /usr/local/lib/python3.10/dist-packages (from kaggle->opendatasets) (6.1.0)\n",
            "Requirement already satisfied: webencodings in /usr/local/lib/python3.10/dist-packages (from bleach->kaggle->opendatasets) (0.5.1)\n",
            "Requirement already satisfied: text-unidecode>=1.3 in /usr/local/lib/python3.10/dist-packages (from python-slugify->kaggle->opendatasets) (1.3)\n",
            "Requirement already satisfied: charset-normalizer<4,>=2 in /usr/local/lib/python3.10/dist-packages (from requests->kaggle->opendatasets) (3.3.2)\n",
            "Requirement already satisfied: idna<4,>=2.5 in /usr/local/lib/python3.10/dist-packages (from requests->kaggle->opendatasets) (3.7)\n",
            "Installing collected packages: opendatasets\n",
            "Successfully installed opendatasets-0.1.22\n",
            "Requirement already satisfied: pandas in /usr/local/lib/python3.10/dist-packages (2.0.3)\n",
            "Requirement already satisfied: python-dateutil>=2.8.2 in /usr/local/lib/python3.10/dist-packages (from pandas) (2.8.2)\n",
            "Requirement already satisfied: pytz>=2020.1 in /usr/local/lib/python3.10/dist-packages (from pandas) (2023.4)\n",
            "Requirement already satisfied: tzdata>=2022.1 in /usr/local/lib/python3.10/dist-packages (from pandas) (2024.1)\n",
            "Requirement already satisfied: numpy>=1.21.0 in /usr/local/lib/python3.10/dist-packages (from pandas) (1.25.2)\n",
            "Requirement already satisfied: six>=1.5 in /usr/local/lib/python3.10/dist-packages (from python-dateutil>=2.8.2->pandas) (1.16.0)\n"
          ]
        }
      ]
    },
    {
      "cell_type": "code",
      "source": [
        "import opendatasets as od\n",
        "\n",
        "od.download(\"https://www.kaggle.com/datasets/fatihkgg/ecommerce-product-images-18k\")\n",
        "\n",
        "#USAR API TOKEN DO KAGGLE"
      ],
      "metadata": {
        "colab": {
          "base_uri": "https://localhost:8080/"
        },
        "id": "UtwCMKa7vyxU",
        "outputId": "21449bde-60d7-4628-8258-169b0a5b5a05"
      },
      "execution_count": null,
      "outputs": [
        {
          "output_type": "stream",
          "name": "stdout",
          "text": [
            "Please provide your Kaggle credentials to download this dataset. Learn more: http://bit.ly/kaggle-creds\n",
            "Your Kaggle username: mrciamartins\n",
            "Your Kaggle Key: ··········\n",
            "Dataset URL: https://www.kaggle.com/datasets/fatihkgg/ecommerce-product-images-18k\n",
            "Downloading ecommerce-product-images-18k.zip to ./ecommerce-product-images-18k\n"
          ]
        },
        {
          "output_type": "stream",
          "name": "stderr",
          "text": [
            "100%|██████████| 142M/142M [00:02<00:00, 59.9MB/s]\n"
          ]
        },
        {
          "output_type": "stream",
          "name": "stdout",
          "text": [
            "\n"
          ]
        }
      ]
    },
    {
      "cell_type": "code",
      "source": [],
      "metadata": {
        "id": "IrOeNals8Mmu"
      },
      "execution_count": null,
      "outputs": []
    },
    {
      "cell_type": "markdown",
      "source": [
        "Dataset em  /content/ecommerce-product-images-18k/ECOMMERCE_PRODUCT_IMAGES"
      ],
      "metadata": {
        "id": "J2DbowIZCOG4"
      }
    },
    {
      "cell_type": "markdown",
      "source": [
        "## Parte 1"
      ],
      "metadata": {
        "id": "APdfWgpjB5ki"
      }
    },
    {
      "cell_type": "markdown",
      "source": [
        "### Objetivo e informações esperadas"
      ],
      "metadata": {
        "id": "wAqP_BIlDlr6"
      }
    },
    {
      "cell_type": "markdown",
      "source": [
        "Objetivo:\n",
        "* Apresentar informações do dataset.\n",
        "\n",
        "Informações esperadas:\n",
        "* Integridade dos Arquivos\n",
        "  1. Verifique se todas as imagens listadas no arquivo de informações\n",
        "realmente existem no diretório de imagens e vice-versa.\n",
        "  2. Verifique se todas as imagens estão no mesmo formato, ex: JPEG,\n",
        "PNG, etc.\n",
        "* Consistência dos Metadados\n",
        "  1. Verifique se há valores ausentes nos metadados e como esses casos\n",
        "são tratados.\n",
        "  2. Verifique valores inconsistentes, por exemplo: dimensões de imagens\n",
        "fora do esperado.\n",
        "* Qualidade das Imagens\n",
        "  1. Identifique imagens corrompidas que não podem ser abertas ou\n",
        "processadas.\n",
        "* Distribuição das Classes\n",
        "  1. Verifique a distribuição das classes para identificar possíveis\n",
        "desequilíbrios que possam afetar a modelagem\n",
        "* Duplicatas\n",
        "  1. Identifique imagens duplicadas que possam enviesar os resultados.\n",
        "  2. Verifique duplicatas no arquivo de informações.\n",
        "\n",
        "Informações complementares:\n",
        "* Elaborar uma apresentação para mostrar os resultados.\n",
        "* Apresentar o dataset de forma detalhada.\n",
        "* Verifique quais itens em Informações esperadas podem ser aplicados no\n",
        "dataset."
      ],
      "metadata": {
        "id": "htOu5f-OD6pq"
      }
    },
    {
      "cell_type": "markdown",
      "source": [
        "### **Integridade dos Arquivos**\n",
        "A função a seguir verifica se todas as imagens no diretório estão no mesmo formato (JPEG, JPG, PNG). Ela retorna um dicionário com os formatos das imagens como chaves e suas respectivas quantidades como valores.\n",
        "\n",
        "Saída esperada: {'JPEG': 18175}"
      ],
      "metadata": {
        "id": "k8IhDPpHS5lm"
      }
    },
    {
      "cell_type": "code",
      "source": [
        "import os\n",
        "from PIL import Image\n",
        "\n",
        "diretorio_base = '/content/ecommerce-product-images-18k/ECOMMERCE_PRODUCT_IMAGES'\n",
        "\n",
        "def verificar_formato_imagem(diretorio_base):\n",
        "    formatos = {}\n",
        "    for raiz, dirs, arquivos in os.walk(diretorio_base):\n",
        "        for arquivo in arquivos:\n",
        "            if arquivo.endswith(('jpeg', 'jpg', 'png')):\n",
        "                caminho_arquivo = os.path.join(raiz, arquivo)\n",
        "                with Image.open(caminho_arquivo) as img:\n",
        "                    formato = img.format\n",
        "                    if formato not in formatos:\n",
        "                        formatos[formato] = 0\n",
        "                    formatos[formato] += 1\n",
        "            else:\n",
        "                formatos['Desconhecido'] = formatos.get('Desconhecido', 0) + 1\n",
        "\n",
        "    return formatos\n",
        "\n",
        "formatos_imagens = verificar_formato_imagem(diretorio_base)\n",
        "print(formatos_imagens)"
      ],
      "metadata": {
        "colab": {
          "base_uri": "https://localhost:8080/"
        },
        "id": "GNPu1t5YRZks",
        "outputId": "fad67cb7-dbd7-4d66-a58b-9051f087fc13"
      },
      "execution_count": null,
      "outputs": [
        {
          "output_type": "stream",
          "name": "stdout",
          "text": [
            "{'JPEG': 18175}\n"
          ]
        }
      ]
    }
  ]
}